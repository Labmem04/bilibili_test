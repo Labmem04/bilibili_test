from __future__ import print_function, unicode_literals
from bosonnlp import BosonNLP
import numpy as np
import csv
with open('C:\\Users\\zzlw_\\Desktop\\bilibili.csv','rt',encoding="utf-8") as csvfile:
    reader = csv.reader(csvfile)
    content = [row[3] for row in reader]
optimistic=0
pessimistic=0
for i in range(1,100):
    nlp = BosonNLP('k-UoD3Ax.35480.L3tQbamL81eJ')
    s = content[i]
    result = nlp.sentiment(s)
    if result[0][0]>=0.5:
        optimistic+=1
    else:
        pessimistic+=1
print(optimistic,pessimistic)
%matplotlib inline
import matplotlib.pyplot as plt
labels='optimistic','pessimistic'
sizes=optimistic,pessimistic
colors='lightblue','pink'
explode=0.1,0.1
plt.pie(sizes,explode=explode,labels=labels,
        colors=colors,autopct='%1.1f%%',shadow=True,startangle=50)
plt.axis('equal')
plt.show()
