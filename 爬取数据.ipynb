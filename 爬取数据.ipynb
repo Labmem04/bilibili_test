{
 "cells": [
  {
   "cell_type": "code",
   "execution_count": 2,
   "metadata": {
    "scrolled": true
   },
   "outputs": [],
   "source": [
    "import pandas as pd\n",
    "import requests\n",
    "def getHTML(url):\n",
    "    try:\n",
    "        r=requests.get(url,timeout=30)\n",
    "        r.raise_for_status()  # 如果状态不是200, 引发HTTPError异常\n",
    "        r.encoding = r.apparent_encoding\n",
    "        return r.text\n",
    "    except:\n",
    "        return \"产生异常\"\n",
    "import json\n",
    "import time\n",
    "import re\n",
    "def parserHTML(html):\n",
    "    commentlist=[]\n",
    "    hlist=[]\n",
    "    hlist.append(\"名字\")\n",
    "    hlist.append(\"性别\")\n",
    "    hlist.append(\"时间\")\n",
    "    hlist.append(\"评论\")\n",
    "    hlist.append(\"点赞数\")\n",
    "    hlist.append(\"回复数\")\n",
    "    commentlist.append(hlist)\n",
    "    #解析获得的数据，包括评论内容，评论时间，用户ID等\n",
    "    s=json.loads(html)\n",
    "    for i in range(20):\n",
    "        comment=s['data']['replies'][i]\n",
    "        # 用户名，性别，时间，评价，点赞数，回复数\n",
    "        blist=[]\n",
    "        username=comment['member']['uname']\n",
    "        sex=comment['member']['sex']\n",
    "        ctime=time.strftime(\"%Y-%m-%d %H:%M:%S\",time.localtime(comment['ctime']))\n",
    "        content=comment['content']['message']\n",
    "        likes=comment['like']\n",
    "        rcounts=comment['rcount']\n",
    "        blist.append(username)\n",
    "        blist.append(sex)\n",
    "        blist.append(ctime)\n",
    "        blist.append(content)\n",
    "        blist.append(likes)\n",
    "        blist.append(rcounts)\n",
    "        commentlist.append(blist)\n",
    "    writePage(commentlist)\n",
    "        #用正则表达式过滤掉非中文字符\n",
    "        #pattern = \".*?([\\u4E00-\\u9FA5]+)\"\n",
    "        #match_obj = re.match(pattern,content)\n",
    "        #print(match_obj.group(0))\n",
    "def writePage(urating):\n",
    "    #将爬取的数据存入本地文件中\n",
    "    dataframe = pd.DataFrame(urating)\n",
    "    dataframe.to_csv('C:\\\\Users\\\\zzlw_\\\\Desktop\\\\bilibili.csv', mode='a', index=False, sep=',', header=False)\n",
    "if __name__ == '__main__':\n",
    "    for page in range(2,100):\n",
    "        url='https://api.bilibili.com/x/v2/reply?type=1&oid=56944704&pn='+str(page)\n",
    "        html=getHTML(url)\n",
    "        parserHTML(html)"
   ]
  },
  {
   "cell_type": "code",
   "execution_count": null,
   "metadata": {},
   "outputs": [],
   "source": []
  }
 ],
 "metadata": {
  "kernelspec": {
   "display_name": "Python 3",
   "language": "python",
   "name": "python3"
  },
  "language_info": {
   "codemirror_mode": {
    "name": "ipython",
    "version": 3
   },
   "file_extension": ".py",
   "mimetype": "text/x-python",
   "name": "python",
   "nbconvert_exporter": "python",
   "pygments_lexer": "ipython3",
   "version": "3.6.5"
  }
 },
 "nbformat": 4,
 "nbformat_minor": 2
}
