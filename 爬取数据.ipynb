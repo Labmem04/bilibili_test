{
 "cells": [
  {
   "cell_type": "code",
   "execution_count": 6,
   "metadata": {
    "scrolled": true
   },
   "outputs": [
    {
     "ename": "IndexError",
     "evalue": "list index out of range",
     "output_type": "error",
     "traceback": [
      "\u001b[1;31m---------------------------------------------------------------------------\u001b[0m",
      "\u001b[1;31mIndexError\u001b[0m                                Traceback (most recent call last)",
      "\u001b[1;32m<ipython-input-6-cec584dc2836>\u001b[0m in \u001b[0;36m<module>\u001b[1;34m()\u001b[0m\n\u001b[0;32m     54\u001b[0m         \u001b[0murl\u001b[0m\u001b[1;33m=\u001b[0m\u001b[1;34m'https://api.bilibili.com/x/v2/reply?type=1&oid=56944704&pn='\u001b[0m\u001b[1;33m+\u001b[0m\u001b[0mstr\u001b[0m\u001b[1;33m(\u001b[0m\u001b[0mpage\u001b[0m\u001b[1;33m)\u001b[0m\u001b[1;33m\u001b[0m\u001b[0m\n\u001b[0;32m     55\u001b[0m         \u001b[0mhtml\u001b[0m\u001b[1;33m=\u001b[0m\u001b[0mgetHTML\u001b[0m\u001b[1;33m(\u001b[0m\u001b[0murl\u001b[0m\u001b[1;33m)\u001b[0m\u001b[1;33m\u001b[0m\u001b[0m\n\u001b[1;32m---> 56\u001b[1;33m         \u001b[0mparserHTML\u001b[0m\u001b[1;33m(\u001b[0m\u001b[0mhtml\u001b[0m\u001b[1;33m)\u001b[0m\u001b[1;33m\u001b[0m\u001b[0m\n\u001b[0m\u001b[0;32m     57\u001b[0m \u001b[1;31m#bilibili=open('C:\\\\Users\\\\zzlw_\\\\Desktop\\\\bilibili.txt','a',encoding='utf-8')\u001b[0m\u001b[1;33m\u001b[0m\u001b[1;33m\u001b[0m\u001b[0m\n\u001b[0;32m     58\u001b[0m \u001b[1;31m#encoding='utf-8'  改变目标文件的编码\u001b[0m\u001b[1;33m\u001b[0m\u001b[1;33m\u001b[0m\u001b[0m\n",
      "\u001b[1;32m<ipython-input-6-cec584dc2836>\u001b[0m in \u001b[0;36mparserHTML\u001b[1;34m(html)\u001b[0m\n\u001b[0;32m     25\u001b[0m     \u001b[0ms\u001b[0m\u001b[1;33m=\u001b[0m\u001b[0mjson\u001b[0m\u001b[1;33m.\u001b[0m\u001b[0mloads\u001b[0m\u001b[1;33m(\u001b[0m\u001b[0mhtml\u001b[0m\u001b[1;33m)\u001b[0m\u001b[1;33m\u001b[0m\u001b[0m\n\u001b[0;32m     26\u001b[0m     \u001b[1;32mfor\u001b[0m \u001b[0mi\u001b[0m \u001b[1;32min\u001b[0m \u001b[0mrange\u001b[0m\u001b[1;33m(\u001b[0m\u001b[1;36m20\u001b[0m\u001b[1;33m)\u001b[0m\u001b[1;33m:\u001b[0m\u001b[1;33m\u001b[0m\u001b[0m\n\u001b[1;32m---> 27\u001b[1;33m         \u001b[0mcomment\u001b[0m\u001b[1;33m=\u001b[0m\u001b[0ms\u001b[0m\u001b[1;33m[\u001b[0m\u001b[1;34m'data'\u001b[0m\u001b[1;33m]\u001b[0m\u001b[1;33m[\u001b[0m\u001b[1;34m'replies'\u001b[0m\u001b[1;33m]\u001b[0m\u001b[1;33m[\u001b[0m\u001b[0mi\u001b[0m\u001b[1;33m]\u001b[0m\u001b[1;33m\u001b[0m\u001b[0m\n\u001b[0m\u001b[0;32m     28\u001b[0m         \u001b[1;31m# 用户名，性别，时间，评价，点赞数，回复数\u001b[0m\u001b[1;33m\u001b[0m\u001b[1;33m\u001b[0m\u001b[0m\n\u001b[0;32m     29\u001b[0m         \u001b[0mblist\u001b[0m\u001b[1;33m=\u001b[0m\u001b[1;33m[\u001b[0m\u001b[1;33m]\u001b[0m\u001b[1;33m\u001b[0m\u001b[0m\n",
      "\u001b[1;31mIndexError\u001b[0m: list index out of range"
     ]
    }
   ],
   "source": [
    "import pandas as pd\n",
    "import requests\n",
    "def getHTML(url):\n",
    "    try:\n",
    "        r=requests.get(url,timeout=30)\n",
    "        r.raise_for_status()  # 如果状态不是200, 引发HTTPError异常\n",
    "        r.encoding = r.apparent_encoding\n",
    "        return r.text\n",
    "    except:\n",
    "        return \"产生异常\"\n",
    "import json\n",
    "import time\n",
    "import re\n",
    "def parserHTML(html):\n",
    "    commentlist=[]\n",
    "    hlist=[]\n",
    "    hlist.append(\"名字\")\n",
    "    hlist.append(\"性别\")\n",
    "    hlist.append(\"时间\")\n",
    "    hlist.append(\"评论\")\n",
    "    hlist.append(\"点赞数\")\n",
    "    hlist.append(\"回复数\")\n",
    "    commentlist.append(hlist)\n",
    "    #解析获得的数据，包括评论内容，评论时间，用户ID等\n",
    "    s=json.loads(html)\n",
    "    for i in range(20):\n",
    "        comment=s['data']['replies'][i]\n",
    "        # 用户名，性别，时间，评价，点赞数，回复数\n",
    "        blist=[]\n",
    "        username=comment['member']['uname']\n",
    "        sex=comment['member']['sex']\n",
    "        ctime=time.strftime(\"%Y-%m-%d %H:%M:%S\",time.localtime(comment['ctime']))\n",
    "        content=comment['content']['message']\n",
    "        likes=comment['like']\n",
    "        rcounts=comment['rcount']\n",
    "        blist.append(username)\n",
    "        blist.append(sex)\n",
    "        blist.append(ctime)\n",
    "        blist.append(content)\n",
    "        blist.append(likes)\n",
    "        blist.append(rcounts)\n",
    "        commentlist.append(blist)\n",
    "    writePage(commentlist)\n",
    "        #用正则表达式过滤掉非中文字符\n",
    "        #pattern = \".*?([\\u4E00-\\u9FA5]+)\"\n",
    "        #match_obj = re.match(pattern,content)\n",
    "        #print(match_obj.group(0))\n",
    "def writePage(urating):\n",
    "    #将爬取的数据存入本地文件中\n",
    "    dataframe = pd.DataFrame(urating)\n",
    "    dataframe.to_csv('C:\\\\Users\\\\zzlw_\\\\Desktop\\\\bilibili.csv', mode='a', index=False, sep=',', header=False)\n",
    "if __name__ == '__main__':\n",
    "    for page in range(2,1000):\n",
    "        url='https://api.bilibili.com/x/v2/reply?type=1&oid=56944704&pn='+str(page)\n",
    "        html=getHTML(url)\n",
    "        parserHTML(html)\n",
    "#bilibili=open('C:\\\\Users\\\\zzlw_\\\\Desktop\\\\bilibili.txt','a',encoding='utf-8')\n",
    "#encoding='utf-8'  改变目标文件的编码\n",
    "#bilibili.write(getHTML(url))\n",
    "#bilibili.close()\n",
    "#将爬取到的数据存入‘bilibili.txt’文件中"
   ]
  },
  {
   "cell_type": "code",
   "execution_count": null,
   "metadata": {},
   "outputs": [],
   "source": []
  }
 ],
 "metadata": {
  "kernelspec": {
   "display_name": "Python 3",
   "language": "python",
   "name": "python3"
  },
  "language_info": {
   "codemirror_mode": {
    "name": "ipython",
    "version": 3
   },
   "file_extension": ".py",
   "mimetype": "text/x-python",
   "name": "python",
   "nbconvert_exporter": "python",
   "pygments_lexer": "ipython3",
   "version": "3.6.5"
  }
 },
 "nbformat": 4,
 "nbformat_minor": 2
}
